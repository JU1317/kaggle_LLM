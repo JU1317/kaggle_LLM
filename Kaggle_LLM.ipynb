{
  "nbformat": 4,
  "nbformat_minor": 0,
  "metadata": {
    "colab": {
      "provenance": [],
      "authorship_tag": "ABX9TyNRZb18C8p7lJljv+MFiB5Q",
      "include_colab_link": true
    },
    "kernelspec": {
      "name": "python3",
      "display_name": "Python 3"
    },
    "language_info": {
      "name": "python"
    }
  },
  "cells": [
    {
      "cell_type": "markdown",
      "metadata": {
        "id": "view-in-github",
        "colab_type": "text"
      },
      "source": [
        "<a href=\"https://colab.research.google.com/github/JU1317/kaggle_LLM/blob/test_1/Kaggle_LLM.ipynb\" target=\"_parent\"><img src=\"https://colab.research.google.com/assets/colab-badge.svg\" alt=\"Open In Colab\"/></a>"
      ]
    },
    {
      "cell_type": "code",
      "execution_count": 3,
      "metadata": {
        "colab": {
          "base_uri": "https://localhost:8080/"
        },
        "id": "ug6hIRNnZwcE",
        "outputId": "a0811a92-3db8-41a4-f386-08a619a08c49"
      },
      "outputs": [
        {
          "output_type": "stream",
          "name": "stdout",
          "text": [
            "TensorFlow: 2.18.0\n",
            "Keras: 3.8.0\n",
            "KerasNLP: 0.18.1\n"
          ]
        }
      ],
      "source": [
        "import os\n",
        "os.environ[\"KERAS_BACKEND\"] = \"jax\"  # or \"tensorflow\" or \"torch\"\n",
        "\n",
        "import keras_nlp\n",
        "import keras\n",
        "import tensorflow as tf\n",
        "\n",
        "import numpy as np\n",
        "import pandas as pd\n",
        "from tqdm import tqdm\n",
        "import json\n",
        "\n",
        "import matplotlib.pyplot as plt\n",
        "import matplotlib as mpl\n",
        "import plotly.express as px\n",
        "\n",
        "print(\"TensorFlow:\", tf.__version__)\n",
        "print(\"Keras:\", keras.__version__)\n",
        "print(\"KerasNLP:\", keras_nlp.__version__)"
      ]
    },
    {
      "cell_type": "code",
      "source": [
        "class CFG:\n",
        "    seed = 42  # Random seed\n",
        "    preset = \"deberta_v3_extra_small_en\" # Name of pretrained models\n",
        "    sequence_length = 512  # Input sequence length\n",
        "    epochs = 3 # Training epochs\n",
        "    batch_size = 16  # Batch size\n",
        "    scheduler = 'cosine'  # Learning rate scheduler\n",
        "    label2name = {0: 'winner_model_a', 1: 'winner_model_b', 2: 'winner_tie'}\n",
        "    name2label = {v:k for k, v in label2name.items()}\n",
        "    class_labels = list(label2name.keys())\n",
        "    class_names = list(label2name.values())"
      ],
      "metadata": {
        "id": "_q_Sgxf2c-ii"
      },
      "execution_count": 4,
      "outputs": []
    },
    {
      "cell_type": "code",
      "source": [
        "keras.utils.set_random_seed(CFG.seed)"
      ],
      "metadata": {
        "id": "EOc1ni6edaQJ"
      },
      "execution_count": 5,
      "outputs": []
    },
    {
      "cell_type": "code",
      "source": [
        "keras.mixed_precision.set_global_policy(\"mixed_float16\")"
      ],
      "metadata": {
        "id": "5FCa6b4Mdc9t"
      },
      "execution_count": 6,
      "outputs": []
    },
    {
      "cell_type": "code",
      "source": [
        "# BASE_PATH = '/kaggle/input/llm-classification-finetuning'\n",
        "BASE_PATH = '/kaggle/input/llm-classification-finetuning'"
      ],
      "metadata": {
        "id": "ZnVaf3vFdfFJ"
      },
      "execution_count": 7,
      "outputs": []
    }
  ]
}